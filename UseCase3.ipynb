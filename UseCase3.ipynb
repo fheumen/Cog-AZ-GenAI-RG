{
 "cells": [
  {
   "cell_type": "code",
   "execution_count": 0,
   "metadata": {
    "application/vnd.databricks.v1+cell": {
     "cellMetadata": {
      "byteLimit": 2048000,
      "rowLimit": 10000
     },
     "inputWidgets": {},
     "nuid": "7a7300fe-d506-4b3a-b401-5f73cea73112",
     "showTitle": false,
     "title": ""
    }
   },
   "outputs": [],
   "source": [
    "import pandas as pd"
   ]
  },
  {
   "cell_type": "code",
   "execution_count": 0,
   "metadata": {
    "application/vnd.databricks.v1+cell": {
     "cellMetadata": {
      "byteLimit": 2048000,
      "rowLimit": 10000
     },
     "inputWidgets": {},
     "nuid": "d330d920-250b-4aec-8d55-1721e821dc52",
     "showTitle": false,
     "title": ""
    }
   },
   "outputs": [],
   "source": [
    "storageAccountName = \"az866353\"\n",
    "storageAccountAccessKey = \"J/nNU/Gaz158Z0NsYBvbcIkr+PS0KyCedNzpHk7leqLYRi9+bInU9BzJuJ2qNqgwRuz+JWfRvLvl+AStk4ls2w==\"\n",
    "blobContainerName = \"aztest\"\n",
    "file_url = 'https://www.kvn.de/internet_media/Mitglieder/Verordnungen/Arzneimittel/Arzneimittelvereinbarung+2023+_+Vorabver%C3%B6ffentlichung/AMV_2023+nebst+Anlagen.pdf'\n",
    "\n",
    "filename = \"/dbfs/mnt/FileStore/aztest/Entgelttarif.pdf\"\n",
    "\n",
    "#filename = \"/dbfs/mnt/FileStore/aztest/KV_Niedersachsen_AMV_2022_Medicine_Guideline.pdf\""
   ]
  },
  {
   "cell_type": "code",
   "execution_count": 0,
   "metadata": {
    "application/vnd.databricks.v1+cell": {
     "cellMetadata": {
      "byteLimit": 2048000,
      "rowLimit": 10000
     },
     "inputWidgets": {},
     "nuid": "d32a3e6e-65b0-4f06-82d7-87faf2cb6255",
     "showTitle": false,
     "title": ""
    }
   },
   "outputs": [],
   "source": [
    "if not any(mount.mountPoint == f\"/mnt/FileStore/{blobContainerName}/\" for mount in dbutils.fs.mounts()):\n",
    "  try:\n",
    "    dbutils.fs.mount(\n",
    "    source = \"wasbs://{}@{}.blob.core.windows.net\".format(blobContainerName, storageAccountName),\n",
    "    mount_point = f\"/mnt/FileStore/{blobContainerName}/\",\n",
    "    extra_configs = {'fs.azure.account.key.' + storageAccountName + '.blob.core.windows.net': storageAccountAccessKey}\n",
    "  )\n",
    "  except Exception as e:\n",
    "    print(\"already mounted. Try to unmount first\")"
   ]
  },
  {
   "cell_type": "code",
   "execution_count": 0,
   "metadata": {
    "application/vnd.databricks.v1+cell": {
     "cellMetadata": {
      "byteLimit": 2048000,
      "rowLimit": 10000
     },
     "inputWidgets": {},
     "nuid": "edcc1e89-b7ef-4294-88aa-2770c141581b",
     "showTitle": false,
     "title": ""
    }
   },
   "outputs": [],
   "source": [
    "import os\n",
    "\n",
    "def file_exists(path):\n",
    "  if path.startswith(\"/dbfs/\"):\n",
    "    path=path.replace(\"/dbfs/\",\"dbfs:/\")\n",
    "  \n",
    "  try:\n",
    "    dbutils.fs.ls(path)\n",
    "    return True\n",
    "  except Exception as e:\n",
    "    return False\n",
    "\n",
    "      \n",
    "def get_list_of_files(path):\n",
    "  arr = os.listdir(path)\n",
    "  return arr\n",
    "\n",
    "\n",
    "\n",
    "def check_create_dir(path):\n",
    "  if not os.path.isdir(path):\n",
    "    os.mkdir(path)"
   ]
  },
  {
   "cell_type": "code",
   "execution_count": 0,
   "metadata": {
    "application/vnd.databricks.v1+cell": {
     "cellMetadata": {
      "byteLimit": 2048000,
      "rowLimit": 10000
     },
     "inputWidgets": {},
     "nuid": "7cbb28bb-10da-42a3-a37e-aa63c22386d9",
     "showTitle": false,
     "title": ""
    }
   },
   "outputs": [],
   "source": [
    "source_folder = \"/dbfs/mnt/FileStore/aztest/\""
   ]
  },
  {
   "cell_type": "markdown",
   "metadata": {
    "application/vnd.databricks.v1+cell": {
     "cellMetadata": {},
     "inputWidgets": {},
     "nuid": "ba1e0b1b-d73c-4cb2-bd01-7e1904b2c879",
     "showTitle": false,
     "title": ""
    }
   },
   "source": [
    "Download Rundschreiben"
   ]
  },
  {
   "cell_type": "code",
   "execution_count": 0,
   "metadata": {
    "application/vnd.databricks.v1+cell": {
     "cellMetadata": {
      "byteLimit": 2048000,
      "rowLimit": 10000
     },
     "inputWidgets": {},
     "nuid": "75f0a4f3-4080-458b-8b8d-e7276b77621e",
     "showTitle": false,
     "title": ""
    }
   },
   "outputs": [],
   "source": [
    "list_years = [2015, 2016, 2017, 2018, 2019, 2020,2021,2022,2023] \n",
    "#list_years = [2015, 2016] \n"
   ]
  },
  {
   "cell_type": "code",
   "execution_count": 0,
   "metadata": {
    "application/vnd.databricks.v1+cell": {
     "cellMetadata": {
      "byteLimit": 2048000,
      "rowLimit": 10000
     },
     "inputWidgets": {},
     "nuid": "c9e518b4-75b6-439b-a9db-be013fcf58e3",
     "showTitle": false,
     "title": ""
    }
   },
   "outputs": [],
   "source": [
    "import requests\n",
    "from PyPDF2 import PdfReader\n",
    "import time\n",
    "\n",
    "for year in list_years:\n",
    "    url = f'https://www.kvn.de/internet_media/Mitglieder/Praxisf%C3%BChrung/Publikationen/Rundschreiben/Rundschreiben+{year}.pdf'\n",
    "    response = requests.get(url)\n",
    "    filename_pdf= f'{source_folder}{year}.pdf'\n",
    "    \n",
    "    with open(filename_pdf, 'wb') as f:\n",
    "        f.write(response.content)\n",
    "        "
   ]
  },
  {
   "cell_type": "code",
   "execution_count": 0,
   "metadata": {
    "application/vnd.databricks.v1+cell": {
     "cellMetadata": {
      "byteLimit": 2048000,
      "rowLimit": 10000
     },
     "inputWidgets": {},
     "nuid": "7d675573-3bdd-4c27-afcd-bfb2e8e970cd",
     "showTitle": false,
     "title": ""
    }
   },
   "outputs": [],
   "source": [
    "def get_Text_with_content(filename,search_values):\n",
    "    \"\"\"\n",
    "    This code sample shows Prebuilt Layout operations with the Azure Form Recognizer client library. \n",
    "    The async versions of the samples require Python 3.6 or later.\n",
    "\n",
    "    To learn more, please visit the documentation - Quickstart: Form Recognizer Python client library SDKs\n",
    "    https://docs.microsoft.com/en-us/azure/applied-ai-services/form-recognizer/quickstarts/try-v3-python-sdk\n",
    "    \"\"\"\n",
    "\n",
    "    from azure.core.credentials import AzureKeyCredential\n",
    "    from azure.ai.formrecognizer import DocumentAnalysisClient\n",
    "\n",
    "    \"\"\"\n",
    "    Remember to remove the key from your code when you're done, and never post it publicly. For production, use\n",
    "    secure methods to store and access your credentials. For more information, see \n",
    "    https://docs.microsoft.com/en-us/azure/cognitive-services/cognitive-services-security?tabs=command-line%2Ccsharp#environment-variables-and-application-configuration\n",
    "    \"\"\"\n",
    "    endpoint = \"https://formrec866353.cognitiveservices.azure.com/\"\n",
    "    key = \"c647473722c1402c836414afe191d81e\"\n",
    "\n",
    "    model_id=\"prebuilt-layout\"\n",
    "\n",
    "\n",
    "    with open(filename, \"rb\") as fd:\n",
    "        document = fd.read()\n",
    "\n",
    "    document_analysis_client = DocumentAnalysisClient(endpoint=endpoint, credential=AzureKeyCredential(key))\n",
    "    poller = document_analysis_client.begin_analyze_document(model_id, document)\n",
    "\n",
    "\n",
    "    # sample document\n",
    "    #formUrl = \"https://raw.githubusercontent.com/Azure-Samples/cognitive-services-REST-api-samples/master/curl/form-recognizer/sample-layout.pdf\"\n",
    "\n",
    "    #document_analysis_client = DocumentAnalysisClient(\n",
    "    #    endpoint=endpoint, credential=AzureKeyCredential(key)\n",
    "    #)\n",
    "        \n",
    "    #poller = document_analysis_client.begin_analyze_document_from_url(\"prebuilt-layout\", formUrl)\n",
    "\n",
    "\n",
    "    result = poller.result()\n",
    "\n",
    "\n",
    "    list_page_number =[]\n",
    "    list_of_detections=[]\n",
    "    list_of_search_values_findings = []\n",
    "    list_of_df = []\n",
    "\n",
    " \n",
    "    for para in result.paragraphs:\n",
    "        text= para.content\n",
    "        for search_value in search_values:\n",
    "            if search_value in text:\n",
    "                list_of_detections.append(text)\n",
    "                list_page_number.append(para.bounding_regions[0].page_number)\n",
    "                list_of_search_values_findings.append(search_value)\n",
    "    list_of_df.append(pd.DataFrame({'Filename': filename,'page_number': list_page_number, 'content': list_of_detections, 'search_value': list_of_search_values_findings}))\n",
    "\n",
    "    \n",
    "    concatenated_df = pd.concat(list_of_df)\n",
    "    return concatenated_df\n",
    "    \n",
    "\n"
   ]
  },
  {
   "cell_type": "code",
   "execution_count": 0,
   "metadata": {
    "application/vnd.databricks.v1+cell": {
     "cellMetadata": {
      "byteLimit": 2048000,
      "rowLimit": 10000
     },
     "inputWidgets": {},
     "nuid": "adc4d37c-5494-4b3a-be4e-7adcac5044f1",
     "showTitle": false,
     "title": ""
    }
   },
   "outputs": [],
   "source": [
    "for year in list_years:\n",
    "    filename_pdf= f'{source_folder}{year}.pdf'\n",
    "    filename_txt =  f'{source_folder}{year}.pdf.txt'\n",
    "    \n",
    "    # Erstellen Sie ein PDF-Reader-Objekt\n",
    "    pdf_reader = PdfReader(filename_pdf)\n",
    "    # Lesen Sie den Text aus der PDF-Datei\n",
    "    text = ''\n",
    "    for page in pdf_reader.pages:\n",
    "        text += page.extract_text()\n",
    "    # Schreiben Sie den Text in eine Textdatei\n",
    "    with open(filename_txt, 'w', encoding='utf-8') as f:\n",
    "        f.write(text)"
   ]
  },
  {
   "cell_type": "code",
   "execution_count": 0,
   "metadata": {
    "application/vnd.databricks.v1+cell": {
     "cellMetadata": {
      "byteLimit": 2048000,
      "rowLimit": 10000
     },
     "inputWidgets": {},
     "nuid": "7cc5fa2f-f6bf-4f66-8d4e-2a670b158586",
     "showTitle": false,
     "title": ""
    }
   },
   "outputs": [],
   "source": [
    "\n",
    "list_of_df = []\n",
    "list_of_search_values =[\"Dapagliflozin\",\"AstraZeneca\",\"Empagliflozin\",\"Böhringer\",\"Bayer\",\"Corona\"]\n",
    "for year in list_years:\n",
    "    filename_pdf = source_folder+f\"{year}.pdf\"\n",
    " \n",
    "    list_of_df.append(get_Text_with_content(filename_pdf,list_of_search_values))\n",
    "    print(filename_pdf)\n",
    "    \n",
    "\n",
    "\n",
    "concatenated_df = pd.concat(list_of_df)\n",
    "concatenated_df.head()"
   ]
  },
  {
   "cell_type": "code",
   "execution_count": 0,
   "metadata": {
    "application/vnd.databricks.v1+cell": {
     "cellMetadata": {
      "byteLimit": 2048000,
      "rowLimit": 10000
     },
     "inputWidgets": {},
     "nuid": "834732c1-19c5-45c9-924e-351ea31e3fda",
     "showTitle": false,
     "title": ""
    }
   },
   "outputs": [],
   "source": [
    "spark.sql(\"DROP TABLE IF EXISTS Detections\")\n"
   ]
  },
  {
   "cell_type": "code",
   "execution_count": 0,
   "metadata": {
    "application/vnd.databricks.v1+cell": {
     "cellMetadata": {
      "byteLimit": 2048000,
      "rowLimit": 10000
     },
     "inputWidgets": {},
     "nuid": "7dcfd39b-7583-46f6-8ba7-af6d38ed6431",
     "showTitle": false,
     "title": ""
    }
   },
   "outputs": [],
   "source": [
    "from pyspark.sql import SparkSession\n",
    "import pandas as pd\n",
    "\n",
    "# Erstellen einer SparkSession\n",
    "spark = SparkSession.builder.appName('pandas_to_spark').getOrCreate()\n",
    "\n",
    "# Konvertieren des Pandas DataFrame in einen Spark DataFrame\n",
    "sdf = spark.createDataFrame(concatenated_df)\n",
    "\n",
    "# Speichern des Spark DataFrame als Tabelle\n",
    "sdf.write.mode('overwrite').saveAsTable('Detections')"
   ]
  },
  {
   "cell_type": "code",
   "execution_count": 0,
   "metadata": {
    "application/vnd.databricks.v1+cell": {
     "cellMetadata": {
      "byteLimit": 2048000,
      "implicitDf": true,
      "rowLimit": 10000
     },
     "inputWidgets": {},
     "nuid": "e7578ae6-958e-4fed-b1d7-a831eadb97fa",
     "showTitle": false,
     "title": ""
    }
   },
   "outputs": [],
   "source": [
    "%sql\n",
    "select * from Detections "
   ]
  },
  {
   "cell_type": "code",
   "execution_count": 0,
   "metadata": {
    "application/vnd.databricks.v1+cell": {
     "cellMetadata": {
      "byteLimit": 2048000,
      "rowLimit": 10000
     },
     "inputWidgets": {},
     "nuid": "33d0a49f-7b03-4963-bd36-d76070be5b26",
     "showTitle": false,
     "title": ""
    }
   },
   "outputs": [],
   "source": []
  }
 ],
 "metadata": {
  "application/vnd.databricks.v1+notebook": {
   "dashboards": [],
   "environmentMetadata": {
    "base_environment": "",
    "client": "1"
   },
   "language": "python",
   "notebookMetadata": {
    "mostRecentlyExecutedCommandWithImplicitDF": {
     "commandId": 3174731053238491,
     "dataframes": [
      "_sqldf"
     ]
    },
    "pythonIndentUnit": 4
   },
   "notebookName": "UseCase3",
   "widgets": {}
  }
 },
 "nbformat": 4,
 "nbformat_minor": 0
}
